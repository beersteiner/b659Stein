{
 "cells": [
  {
   "cell_type": "markdown",
   "metadata": {},
   "source": [
    "# This is my first notebook!\n",
    "Basic list:\n",
    "<ol>\n",
    "    <li> one </li>\n",
    "    <li> two </li>\n",
    "    <ol>\n",
    "        <li> two point 2 </li>\n",
    "    </ol>\n",
    "</ol>\n",
    "    \n",
    "<hr> \n",
    "\n",
    "<ul>\n",
    "    <li> one </li>\n",
    "    <li> two </li>\n",
    "    <ul>\n",
    "        <li> two point 2 </li>\n",
    "    </ul>\n",
    "    <li> can use backticks for `code` </li>\n",
    "</ul>\n"
   ]
  },
  {
   "cell_type": "code",
   "execution_count": null,
   "metadata": {},
   "outputs": [],
   "source": []
  }
 ],
 "metadata": {
  "kernelspec": {
   "display_name": "Python (b659Stein)",
   "language": "python",
   "name": "b659stein"
  },
  "language_info": {
   "codemirror_mode": {
    "name": "ipython",
    "version": 3
   },
   "file_extension": ".py",
   "mimetype": "text/x-python",
   "name": "python",
   "nbconvert_exporter": "python",
   "pygments_lexer": "ipython3",
   "version": "3.7.6"
  }
 },
 "nbformat": 4,
 "nbformat_minor": 2
}
